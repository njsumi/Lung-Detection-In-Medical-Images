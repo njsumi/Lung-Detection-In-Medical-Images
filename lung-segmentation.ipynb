{
 "cells": [
  {
   "cell_type": "code",
   "execution_count": null,
   "metadata": {
    "cellView": "form",
    "id": "zQXO9EIy2ioQ"
   },
   "outputs": [],
   "source": [
    "import matplotlib.pyplot as plt\n",
    "import os\n",
    "import numpy as np\n",
    "from pathlib import Path\n",
    "import tensorflow as tf\n",
    "from tensorflow.keras.layers import Conv2D, concatenate, MaxPool2D, UpSampling2D\n",
    "from sklearn.model_selection import train_test_split\n",
    "import gdown\n",
    "from ipywidgets import interact, IntSlider\n",
    "\n",
    "IMG_PATH = \"reduced/imgs\"\n",
    "MASK_PATH = \"reduced/masks\"\n",
    "EPOCHS = 40\n",
    "\n",
    "gdown.download(\"https://drive.google.com/uc?id=1_2UHVdkeuCHwwcb2RGs0cosNw8l_YoAE\", \"reduced.zip\", True)\n",
    "!unzip -oq reduced.zip\n",
    "\n",
    "np.random.seed(12)\n",
    "tf.random.set_seed(12)\n",
    "\n",
    "def load():\n",
    "    imgs_paths = sorted([Path(IMG_PATH) / p for p in os.listdir(IMG_PATH)])\n",
    "    masks_paths = sorted([Path(MASK_PATH) / p for p in os.listdir(MASK_PATH)])\n",
    "    imgs = [plt.imread(p) for p in imgs_paths]\n",
    "    masks = [plt.imread(p)[:, :, 0][:, :, None] > 0.5 for p in masks_paths]\n",
    "    imgs, masks = np.array(imgs)[:,:,:,0:1], np.array(masks).astype(float)\n",
    "    imgs_train, imgs_test, masks_train, masks_test = train_test_split(\n",
    "        imgs, masks, test_size=0.2, shuffle=False\n",
    "    )\n",
    "    return imgs_train, imgs_test, masks_train, masks_test\n",
    "\n",
    "def show_lung_mask_sbs(lung, mask):\n",
    "    fig, (a1, a2) = plt.subplots(1, 2)\n",
    "    a1.imshow(lung.squeeze(), cmap = 'gray')\n",
    "    a2.imshow(mask.squeeze(), cmap = 'gray')\n",
    "    a1.set_title(\"lung\")\n",
    "    a2.set_title(\"mask\")\n",
    "\n",
    "\n",
    "def show_lung_mask_pred_sbs(lung, mask, pred):\n",
    "    fig, (a1, a2, a3) = plt.subplots(1, 3)\n",
    "    a1.imshow(lung.squeeze(), cmap = 'gray')\n",
    "    a2.imshow(mask.squeeze(), cmap = 'gray')\n",
    "    a3.imshow(pred.squeeze(), cmap = 'gray')\n",
    "    a1.set_title(\"lung\")\n",
    "    a2.set_title(\"mask\")\n",
    "    a3.set_title(\"predicted mask\")\n",
    "\n",
    "def dice_loss(y_true, y_pred):\n",
    "    numerator = 2 * tf.reduce_sum(y_true * y_pred, axis=(1, 2, 3))\n",
    "    denominator = tf.reduce_sum(y_true + y_pred, axis=(1, 2, 3))\n",
    "    return 1 - numerator / denominator\n",
    "\n",
    "class ShowLearning(tf.keras.callbacks.Callback):\n",
    "    def __init__(self, data, masks, name):\n",
    "        self.data = data\n",
    "        self.masks = masks\n",
    "        self.fig_path = f\"lung/figs/{name}\"\n",
    "        if not os.path.exists(self.fig_path):\n",
    "            os.makedirs(self.fig_path)\n",
    "        super().__init__()\n",
    "\n",
    "    def on_epoch_begin(self, epoch, logs=None):\n",
    "        rand_index = np.random.randint(0, len(self.data))\n",
    "        rand_img = self.data[rand_index][None, :, :, :]\n",
    "        mask = self.masks[rand_index][None, :, :, :]\n",
    "        preds = self.model(rand_img).numpy() > 0.5\n",
    "        show_lung_mask_pred_sbs(rand_img, mask, preds)\n",
    "        plt.savefig(f\"{self.fig_path}/epoch{epoch}.png\")\n",
    "        plt.close()\n",
    "\n",
    "def show_training_image(name, epoch):\n",
    "  im = plt.imread(f'lung/figs/{name}/epoch{epoch}.png')\n",
    "  plt.imshow(im)\n",
    "\n",
    "def dice_loss(y_true, y_pred):\n",
    "    numerator = 2 * tf.reduce_sum(y_true * y_pred, axis=(1, 2, 3))\n",
    "    denominator = tf.reduce_sum(y_true + y_pred, axis=(1, 2, 3))\n",
    "    return 1 - numerator / denominator\n"
   ]
  },
  {
   "cell_type": "code",
   "execution_count": null,
   "metadata": {
    "id": "K4fFbTCT3-EJ"
   },
   "outputs": [],
   "source": [
    "imgs_train, imgs_test, masks_train, masks_test = load()\n",
    "print(imgs_train.shape, imgs_test.shape, masks_train.shape, masks_test.shape)"
   ]
  },
  {
   "cell_type": "code",
   "execution_count": null,
   "metadata": {
    "id": "W5a3mNlo4yti"
   },
   "outputs": [],
   "source": [
    "img_num = 20\n",
    "show_lung_mask_sbs(imgs_train[img_num], masks_train[img_num])"
   ]
  },
  {
   "cell_type": "code",
   "execution_count": null,
   "metadata": {
    "id": "JNK2DE-cSf4-"
   },
   "outputs": [],
   "source": [
    "for i in range(5):\n",
    "  show_lung_mask_sbs(imgs_train[i], masks_train[i])"
   ]
  },
  {
   "cell_type": "code",
   "execution_count": null,
   "metadata": {
    "id": "CFXL0fWFSzkL"
   },
   "outputs": [],
   "source": [
    "def SimpleConvModel():\n",
    "    model = tf.keras.models.Sequential(\n",
    "        [\n",
    "            Conv2D(filters = 16, kernel_size = 3, strides = 1, padding=\"same\", activation=\"relu\"),\n",
    "            Conv2D(filters = 32, kernel_size = 3, strides = 1, padding=\"same\", activation=\"relu\"),\n",
    "            Conv2D(filters = 16, kernel_size = 3, strides = 1, padding=\"same\", activation=\"relu\"),\n",
    "            Conv2D(filters = 1, kernel_size = 3, strides = 1, padding=\"same\", activation=\"sigmoid\"),\n",
    "        ]\n",
    "    ) \n",
    "    return model\n",
    "\n",
    "model = SimpleConvModel()"
   ]
  },
  {
   "cell_type": "code",
   "execution_count": null,
   "metadata": {
    "id": "begYuiJfOYoq"
   },
   "outputs": [],
   "source": [
    "def train(model, imgs, masks, loss, name, epochs):\n",
    "    optimizer = tf.optimizers.Adam(learning_rate=0.0003)\n",
    "    model.compile(optimizer=optimizer, loss=loss, metrics=[\"accuracy\"])\n",
    "    model.fit(imgs, masks, epochs=epochs, callbacks=[ShowLearning(imgs, masks, name)],)\n",
    "\n",
    "train(model, imgs_train, masks_train, tf.losses.BinaryCrossentropy(), 'simple_conv', EPOCHS)"
   ]
  },
  {
   "cell_type": "code",
   "execution_count": null,
   "metadata": {
    "id": "w9uVFgbHR6No"
   },
   "outputs": [],
   "source": [
    "model.summary()"
   ]
  },
  {
   "cell_type": "code",
   "execution_count": null,
   "metadata": {
    "id": "MiQRiWThOjsV"
   },
   "outputs": [],
   "source": [
    "interact(lambda epoch: show_training_image('simple_conv', epoch), epoch=(0, EPOCHS-1));"
   ]
  },
  {
   "cell_type": "code",
   "execution_count": null,
   "metadata": {
    "cellView": "form",
    "id": "A4UNPqQCT4UB"
   },
   "outputs": [],
   "source": [
    "print(masks_train.sum()/(masks_train.size)* 100)"
   ]
  },
  {
   "cell_type": "code",
   "execution_count": null,
   "metadata": {
    "cellView": "form",
    "id": "1KVMEeZGVDCJ"
   },
   "outputs": [],
   "source": [
    "def dice(true_mask, predicted_mask):\n",
    "    true_mask, predicted_mask = true_mask.astype(bool).flatten(), predicted_mask.astype(bool).flatten()\n",
    "    return  2 * sum(true_mask & predicted_mask) / (sum(true_mask) + sum(predicted_mask))\n"
   ]
  },
  {
   "cell_type": "code",
   "execution_count": null,
   "metadata": {
    "id": "2dTSJR3RNfue"
   },
   "outputs": [],
   "source": [
    "img_num = 43 \n",
    "\n",
    "img = np.expand_dims(imgs_train[img_num],0)\n",
    "true_mask = masks_train[img_num]\n",
    "pred_mask = model.predict(img) > 0.5\n",
    "\n",
    "show_lung_mask_pred_sbs(img, true_mask, pred_mask)\n",
    "\n",
    "print(\"Dice score:\", dice(true_mask, pred_mask)) "
   ]
  },
  {
   "cell_type": "code",
   "execution_count": null,
   "metadata": {
    "id": "eSpaJDlWQpMa"
   },
   "outputs": [],
   "source": [
    "model_with_dice = SimpleConvModel()\n",
    "train(model_with_dice, imgs_train, masks_train, dice_loss, 'simple_conv_with_dice', EPOCHS)"
   ]
  },
  {
   "cell_type": "code",
   "execution_count": null,
   "metadata": {
    "id": "HRoHqgcoQpO8"
   },
   "outputs": [],
   "source": [
    "interact(lambda epoch: show_training_image('simple_conv_with_dice', epoch), epoch=(0, EPOCHS-1));"
   ]
  },
  {
   "cell_type": "code",
   "execution_count": null,
   "metadata": {
    "id": "43smgnsyQpT8"
   },
   "outputs": [],
   "source": [
    "def section(conv1_filters, conv2_filters): \n",
    "    return tf.keras.Sequential(\n",
    "        [\n",
    "            Conv2D(conv1_filters, 3, padding=\"same\", activation=\"relu\"),\n",
    "            Conv2D(conv2_filters, 3, padding=\"same\", activation=\"relu\"),\n",
    "        ]\n",
    "    )\n",
    "\n",
    "class U_Net(tf.keras.Model):\n",
    "    def __init__(self):\n",
    "        super(U_Net, self).__init__() \n",
    "        self.section1 = section(16, 16)\n",
    "        self.section2 = section(32, 32)\n",
    "        self.section3 = section(32, 64) \n",
    "        self.section4 = section(32, 32)\n",
    "        self.section5 = section(16, 16)\n",
    "        self.final_conv = Conv2D(1, 3, padding=\"same\", activation=\"sigmoid\")\n",
    "        self.maxpool1, self.maxpool2 = MaxPool2D(2), MaxPool2D(2) \n",
    "        self.upsample1, self.upsample2 = UpSampling2D(2), UpSampling2D(2)\n",
    "\n",
    "    def call(self, inputs):\n",
    "        input1 = self.section1(inputs)\n",
    "        input2 = self.section2(self.maxpool1(input1))\n",
    "        input3 = self.section3(self.maxpool2(input2))\n",
    "        input4 = self.section4(concatenate([input2, self.upsample1(input3)]))\n",
    "        input5 = self.section5(concatenate([input1, self.upsample2(input4)]))\n",
    "        output = self.final_conv(input5)\n",
    "        return output"
   ]
  },
  {
   "cell_type": "code",
   "execution_count": null,
   "metadata": {
    "id": "B24-_e9-QpXr"
   },
   "outputs": [],
   "source": [
    "unet = U_Net()"
   ]
  },
  {
   "cell_type": "code",
   "execution_count": null,
   "metadata": {
    "id": "MeKfaYomYJY6"
   },
   "outputs": [],
   "source": [
    "train(unet, imgs_train, masks_train, dice_loss, 'unet_with_dice', epochs=EPOCHS)"
   ]
  },
  {
   "cell_type": "code",
   "execution_count": null,
   "metadata": {
    "id": "0Nm0Af71ShNQ"
   },
   "outputs": [],
   "source": [
    "interact(lambda epoch: show_training_image('unet_with_dice', epoch), epoch=(0, EPOCHS-1));"
   ]
  },
  {
   "cell_type": "code",
   "execution_count": null,
   "metadata": {
    "id": "Px2uOdRURy2d"
   },
   "outputs": [],
   "source": [
    "thresh = 0.5 \n",
    "preds = unet(imgs_test).numpy()\n",
    "preds = preds >= thresh\n",
    "\n",
    "def show_preds_helper(imgs_test, masks_test, preds, ind):\n",
    "    show_lung_mask_pred_sbs(imgs_test[ind], masks_test[ind], preds[ind])\n",
    "    plt.show()\n",
    "\n",
    "interact(lambda i: show_preds_helper(imgs_test, masks_test, preds, i), i=(0, len(preds)-1));"
   ]
  }
 ],
 "metadata": {
  "accelerator": "GPU",
  "colab": {
   "collapsed_sections": [],
   "name": "Copy of Instructor Lung Segmentation.ipynb",
   "provenance": []
  },
  "kernelspec": {
   "display_name": "Python 3 (ipykernel)",
   "language": "python",
   "name": "python3"
  },
  "language_info": {
   "codemirror_mode": {
    "name": "ipython",
    "version": 3
   },
   "file_extension": ".py",
   "mimetype": "text/x-python",
   "name": "python",
   "nbconvert_exporter": "python",
   "pygments_lexer": "ipython3",
   "version": "3.9.10"
  }
 },
 "nbformat": 4,
 "nbformat_minor": 1
}
